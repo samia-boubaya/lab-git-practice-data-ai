{
 "cells": [
  {
   "cell_type": "markdown",
   "metadata": {},
   "source": [
    "## About Me Lab: AI Engineering, Data Analytics & Data Science\n",
    "\n",
    "In this notebook, you'll write a short introduction about yourself using Python!\n",
    "\n",
    "### Instructions:\n",
    "- Fill in the variables below with your details.\n",
    "- Run the cell to print your introduction.\n",
    "\n",
    "### What to Include:\n",
    "- Your name.\n",
    "- Why you're interested in AI Engineering, Data Analytics or Data Science.\n",
    "- A fun fact about yourself or a goal for this course.\n"
   ]
  },
  {
   "cell_type": "code",
   "execution_count": 15,
   "metadata": {},
   "outputs": [
    {
     "name": "stdout",
     "output_type": "stream",
     "text": [
      "Hi! My name is Samia BOUBAYA. I’m excited to learn because I believe that AI will be the new norm just like the internet and Google was and there is no doubt that humanity shall continue to evolve. \n",
      "I want to be part of this evolution and contribute to the advancements in this field by learning through hands-on projects and real-world applications.\n",
      "AI and Data Analytics because I want to work in this field. I have always been fascinated by how data can be used to make well-informed decisions and drive innovation. \n",
      " A fun fact about me is: I enjoy gaming and reading. I am quite the curious person and I love exploring new things!\n"
     ]
    }
   ],
   "source": [
    "# About Me\n",
    "# Please fill in the following details.\n",
    "\n",
    "name = \"Samia BOUBAYA\"\n",
    "reason = '''I believe that AI will be the new norm just like the internet and Google was and there is no doubt that humanity shall continue to evolve. \n",
    "I want to be part of this evolution and contribute to the advancements in this field by learning through hands-on projects and real-world applications.\n",
    "AI and Data Analytics because I want to work in this field. I have always been fascinated by how data can be used to make well-informed decisions and drive innovation. \n",
    "'''\n",
    "fun_fact = \"I enjoy gaming and reading. I am quite the curious person and I love exploring new things!\"\n",
    "\n",
    "print(f\"Hi! My name is {name}. I’m excited to learn because {reason} A fun fact about me is: {fun_fact}\")"
   ]
  },
  {
   "cell_type": "code",
   "execution_count": null,
   "metadata": {},
   "outputs": [],
   "source": []
  }
 ],
 "metadata": {
  "kernelspec": {
   "display_name": "base",
   "language": "python",
   "name": "python3"
  },
  "language_info": {
   "codemirror_mode": {
    "name": "ipython",
    "version": 3
   },
   "file_extension": ".py",
   "mimetype": "text/x-python",
   "name": "python",
   "nbconvert_exporter": "python",
   "pygments_lexer": "ipython3",
   "version": "3.13.5"
  }
 },
 "nbformat": 4,
 "nbformat_minor": 2
}
